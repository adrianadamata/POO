{
 "cells": [
  {
   "cell_type": "code",
   "execution_count": null,
   "id": "0bcff17f",
   "metadata": {},
   "outputs": [],
   "source": [
    "from cadastro import cadastrar_cursos, cadastrar_alunos, adicionar_notas\n",
    "\n",
    "# Etapa 1: cadastrar cursos\n",
    "cursos = cadastrar_cursos()\n",
    "\n",
    "# Etapa 2: cadastrar alunos\n",
    "alunos = cadastrar_alunos(cursos)\n",
    "\n",
    "# Etapa 3: adicionar notas\n",
    "adicionar_notas(alunos)\n",
    "\n",
    "# Exibir dados\n",
    "for aluno in alunos:\n",
    "    aluno.mostrar_dados()\n",
    "\n"
   ]
  }
 ],
 "metadata": {
  "kernelspec": {
   "display_name": "Python 3",
   "language": "python",
   "name": "python3"
  },
  "language_info": {
   "codemirror_mode": {
    "name": "ipython",
    "version": 3
   },
   "file_extension": ".py",
   "mimetype": "text/x-python",
   "name": "python",
   "nbconvert_exporter": "python",
   "pygments_lexer": "ipython3",
   "version": "3.13.3"
  }
 },
 "nbformat": 4,
 "nbformat_minor": 5
}
