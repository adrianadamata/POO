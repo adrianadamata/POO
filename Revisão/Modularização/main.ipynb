{
 "cells": [
  {
   "cell_type": "code",
   "execution_count": 1,
   "id": "0bcff17f",
   "metadata": {},
   "outputs": [
    {
     "name": "stdout",
     "output_type": "stream",
     "text": [
      "\n",
      "📘 Cadastro do curso 1\n",
      "\n",
      "📌 Cadastro do aluno 1\n",
      "\n",
      "Selecione o curso do aluno:\n",
      "1. Lic em Informatica (8 semestres)\n",
      "\n",
      "✏️ Adicionando notas para Joel:\n",
      "Nome: Joel | Matrícula: 88888888\n",
      "Curso: Lic em Informatica - Duração: 8 semestres\n",
      "Média: 9.00\n"
     ]
    }
   ],
   "source": [
    "from cadastro import cadastrar_cursos, cadastrar_alunos, adicionar_notas\n",
    "\n",
    "# Etapa 1: cadastrar cursos\n",
    "cursos = cadastrar_cursos()\n",
    "\n",
    "# Etapa 2: cadastrar alunos\n",
    "alunos = cadastrar_alunos(cursos)\n",
    "\n",
    "# Etapa 3: adicionar notas\n",
    "adicionar_notas(alunos)\n",
    "\n",
    "# Exibir dados\n",
    "for aluno in alunos:\n",
    "    aluno.mostrar_dados()\n",
    "\n"
   ]
  }
 ],
 "metadata": {
  "kernelspec": {
   "display_name": "Python 3",
   "language": "python",
   "name": "python3"
  },
  "language_info": {
   "codemirror_mode": {
    "name": "ipython",
    "version": 3
   },
   "file_extension": ".py",
   "mimetype": "text/x-python",
   "name": "python",
   "nbconvert_exporter": "python",
   "pygments_lexer": "ipython3",
   "version": "3.13.3"
  }
 },
 "nbformat": 4,
 "nbformat_minor": 5
}
