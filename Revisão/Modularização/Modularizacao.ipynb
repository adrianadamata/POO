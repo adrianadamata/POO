{
 "cells": [
  {
   "cell_type": "markdown",
   "id": "7bddfe36",
   "metadata": {},
   "source": [
    "# Modularização em Python: Projeto POO com Composição\n",
    "\n",
    "Neste notebook, vamos aprender a:\n",
    "- Criar e organizar módulos em Python\n",
    "- Separar classes em arquivos diferentes\n",
    "- Importar e reutilizar código no Jupyter Notebook\n",
    "\n",
    "## 📁 Estrutura modular sugerida\n",
    "\n",
    "- `aluno.py`: Contém a classe `Aluno` e suas subclasses (`AlunoIntegrado`, `AlunoGraduacao`, etc.)\n",
    "- `curso.py`: Contém a classe `Curso`\n",
    "- `utilidades.py`: Contém funções auxiliares (ex: entrada de nota)\n",
    "- `main.ipynb`: Este notebook que importa os módulos e executa o programa principal"
   ]
  },
  {
   "cell_type": "code",
   "execution_count": null,
   "id": "8142ccc9",
   "metadata": {},
   "outputs": [],
   "source": []
  }
 ],
 "metadata": {
  "language_info": {
   "name": "python"
  }
 },
 "nbformat": 4,
 "nbformat_minor": 5
}
