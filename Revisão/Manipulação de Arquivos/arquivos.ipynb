{
 "cells": [
  {
   "cell_type": "markdown",
   "id": "d8d93320",
   "metadata": {},
   "source": [
    "🗂️ Manipulação de Arquivos em Python\n"
   ]
  },
  {
   "cell_type": "code",
   "execution_count": 2,
   "id": "78134dc7",
   "metadata": {},
   "outputs": [],
   "source": [
    "# Escrevendo no arquivo (sobrescreve)\n",
    "with open(\"exemplo.txt\", \"w\") as arquivo:\n",
    "    arquivo.write(\"Olá, mundo!\\nEste é um arquivo de exemplo.\")\n"
   ]
  },
  {
   "cell_type": "code",
   "execution_count": 3,
   "id": "535b12ca",
   "metadata": {},
   "outputs": [
    {
     "name": "stdout",
     "output_type": "stream",
     "text": [
      "Olá, mundo!\n",
      "Este é um arquivo de exemplo.\n"
     ]
    }
   ],
   "source": [
    "# Abrindo um arquivo para leitura\n",
    "arquivo = open(\"exemplo.txt\", \"r\")\n",
    "conteudo = arquivo.read()\n",
    "print(conteudo)\n",
    "arquivo.close()\n"
   ]
  },
  {
   "cell_type": "code",
   "execution_count": 4,
   "id": "5d08b491",
   "metadata": {},
   "outputs": [
    {
     "name": "stdout",
     "output_type": "stream",
     "text": [
      "Linha 1: Olá, mundo!\n",
      "Linha 2: Este é um arquivo de exemplo.\n"
     ]
    }
   ],
   "source": [
    "# Lendo todas as linhas e exibindo com numeração\n",
    "with open(\"exemplo.txt\", \"r\") as arquivo:\n",
    "    linhas = arquivo.readlines()\n",
    "    for i, linha in enumerate(linhas):\n",
    "        print(f\"Linha {i+1}: {linha.strip()}\")\n"
   ]
  },
  {
   "cell_type": "code",
   "execution_count": 5,
   "id": "aca627b2",
   "metadata": {},
   "outputs": [
    {
     "name": "stdout",
     "output_type": "stream",
     "text": [
      "Arquivo não encontrado!\n"
     ]
    }
   ],
   "source": [
    "try:\n",
    "    with open(\"inexistente.txt\", \"r\") as f:\n",
    "        print(f.read())\n",
    "except FileNotFoundError:\n",
    "    print(\"Arquivo não encontrado!\")\n"
   ]
  }
 ],
 "metadata": {
  "kernelspec": {
   "display_name": "Python 3",
   "language": "python",
   "name": "python3"
  },
  "language_info": {
   "codemirror_mode": {
    "name": "ipython",
    "version": 3
   },
   "file_extension": ".py",
   "mimetype": "text/x-python",
   "name": "python",
   "nbconvert_exporter": "python",
   "pygments_lexer": "ipython3",
   "version": "3.13.3"
  }
 },
 "nbformat": 4,
 "nbformat_minor": 5
}
